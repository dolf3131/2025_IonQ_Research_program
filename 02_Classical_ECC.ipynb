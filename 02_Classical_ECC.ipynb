{
 "cells": [
  {
   "cell_type": "code",
   "execution_count": 3,
   "id": "a8da38ad-0c22-4b7d-b343-798d7228ee1f",
   "metadata": {},
   "outputs": [],
   "source": [
    "import sympy as sp\n",
    "\n",
    "# define zero point\n",
    "INF = (None, None)\n",
    "\n",
    "def mod_inverse(x, p):\n",
    "    \"\"\"find inverse of mod p\"\"\"\n",
    "    return sp.mod_inverse(x, p)\n",
    "\n",
    "def point_addition(P, Q, a, b, p):\n",
    "    \"\"\"point addition on EC, return point, slope\"\"\"\n",
    "    if P == INF or Q == INF:\n",
    "        return (P if Q == INF else Q), None  # a + 0 = a\n",
    "\n",
    "    if P == Q: \n",
    "        if P[1] == 0: \n",
    "            return INF, None\n",
    "        # slope : (3x^2 + a) / (2y) mod p\n",
    "        m = (3 * P[0]**2 + a) * mod_inverse(2 * P[1], p) % p\n",
    "    else:  \n",
    "        if P[0] == Q[0]: \n",
    "            if P[1] == Q[1]:  # P == Q\n",
    "                return point_addition(P, P, a, b, p) \n",
    "            else: \n",
    "                return INF, None\n",
    "        # slope : (y2 - y1) / (x2 - x1) mod p\n",
    "        m = (Q[1] - P[1]) * mod_inverse(Q[0] - P[0], p) % p\n",
    "    \n",
    "    # result\n",
    "    x_r = (m**2 - P[0] - Q[0]) % p\n",
    "    y_r = (m * (P[0] - x_r) - P[1]) % p\n",
    "    return (x_r, y_r), m\n",
    "\n",
    "def ec_mult(k, P, a, p):\n",
    "    \"\"\"scalar multiplication\"\"\"\n",
    "    result = INF\n",
    "    addend = P\n",
    "    while k > 0:\n",
    "        if k % 2 == 1:\n",
    "            result, _ = point_addition(result, addend, a, b, p)\n",
    "        addend, _ = point_addition(addend, addend, a, b, p)\n",
    "        k //= 2\n",
    "    return result\n",
    "\n",
    "def is_on_curve(point, a, b, p):\n",
    "    \"\"\"checking point is on EC\"\"\"\n",
    "    if point == INF:\n",
    "        return True\n",
    "    x, y = point\n",
    "    return (y**2 - (x**3 + a*x + b)) % p == 0"
   ]
  },
  {
   "cell_type": "code",
   "execution_count": 4,
   "id": "a0f773c7-f472-4c98-8a2c-1867e3d040ef",
   "metadata": {},
   "outputs": [
    {
     "name": "stdout",
     "output_type": "stream",
     "text": [
      "P + Q = (mpz(1), mpz(22))\n",
      "3 * P = (mpz(9), mpz(1))\n"
     ]
    }
   ],
   "source": [
    "# Parameters\n",
    "a, b, p = 1, -1, 23  # EC y^2 = x^3 + x - 1 (mod 23)\n",
    "n = p-1\n",
    "Q=(7,2)\n",
    "P=(8,6)\n",
    "\n",
    "\n",
    "# check\n",
    "assert is_on_curve(P, a, b, p), \"P is not on the curve\"\n",
    "assert is_on_curve(Q, a, b, p), \"Q is not on the curve\"\n",
    "\n",
    "# point addition\n",
    "R, _ = point_addition(P, Q, a, b, p)\n",
    "print(f\"P + Q = {R}\")\n",
    "\n",
    "# scalar multiplication: 3 * P\n",
    "three_P = ec_mult(3, P, a, p)\n",
    "print(f\"3 * P = {three_P}\")"
   ]
  },
  {
   "cell_type": "code",
   "execution_count": 5,
   "id": "73e2ea52-8cc9-4754-9e7f-290a9ee6aabc",
   "metadata": {},
   "outputs": [
    {
     "name": "stdout",
     "output_type": "stream",
     "text": [
      "brute_force method: P = 16 * Q\n"
     ]
    }
   ],
   "source": [
    "# P = k * Q using brute force\n",
    "def brute_force(P, Q, a, b, p):\n",
    "    k = 1\n",
    "    current = Q\n",
    "    while True:\n",
    "        if current == P:\n",
    "            break\n",
    "        \n",
    "        current, _ = point_addition(current, Q, a, b, p) \n",
    "        k += 1\n",
    "    return k\n",
    "k = brute_force(P, Q, a, b, p)\n",
    "print(f'brute_force method: P = {k} * Q')"
   ]
  },
  {
   "cell_type": "code",
   "execution_count": 7,
   "id": "564db04b-a227-40ab-ac44-4704580e519f",
   "metadata": {},
   "outputs": [
    {
     "name": "stdout",
     "output_type": "stream",
     "text": [
      "Baby-step giant-step method: P = 16 * Q\n",
      "P: (8, 6), P_find: (mpz(8), mpz(6))\n"
     ]
    }
   ],
   "source": [
    "import math\n",
    "\n",
    "def baby_step_giant_step(P, Q, a, b, p, n): #Baby-step giant-step\n",
    "    \"\"\"Baby-step Giant-step algorithm\"\"\"\n",
    "    if P == INF or Q == INF:\n",
    "        return (P if Q == INF else Q), None  \n",
    "    \n",
    "    m = math.ceil(math.sqrt(n))  # m = ceil(sqrt(n))\n",
    "    \n",
    "    # Baby-step: {0*Q, 1*Q, ..., (m-1)*Q} Table\n",
    "    baby_steps = {}\n",
    "    current = INF\n",
    "    for i in range(m):\n",
    "        if current != INF:\n",
    "            baby_steps[current] = i\n",
    "        current, _ = point_addition(current, Q, a, b, p)\n",
    "    \n",
    "    # Giant-step: P - i*m*Q\n",
    "    mQ = ec_mult(m, Q, a, p)  # m*Q\n",
    "    inv_mQ = (mQ[0], -mQ[1] % p) if mQ != INF else INF  # -m*Q\n",
    "    current = P\n",
    "    for j in range(m):\n",
    "        if current in baby_steps:\n",
    "            i = baby_steps[current]\n",
    "            k = j * m + i\n",
    "            if k < n:\n",
    "                return k\n",
    "        if current == INF:\n",
    "            break\n",
    "        current, _ = point_addition(current, inv_mQ, a, b, p)\n",
    "    \n",
    "    return None  # no solution\n",
    "\n",
    "# example\n",
    "k = baby_step_giant_step(P, Q, a, b, p, n)\n",
    "if k is not None:\n",
    "    print(f'Baby-step giant-step method: P = {k} * Q')\n",
    "else:\n",
    "    print('해가 없습니다.')\n",
    "\n",
    "\n",
    "P_find = ec_mult(k, P, a, p)\n",
    "print(f'P: {P}, P_find: {P_find}')"
   ]
  }
 ],
 "metadata": {
  "kernelspec": {
   "display_name": "Python 3 (ipykernel)",
   "language": "python",
   "name": "python3"
  },
  "language_info": {
   "codemirror_mode": {
    "name": "ipython",
    "version": 3
   },
   "file_extension": ".py",
   "mimetype": "text/x-python",
   "name": "python",
   "nbconvert_exporter": "python",
   "pygments_lexer": "ipython3",
   "version": "3.12.7"
  }
 },
 "nbformat": 4,
 "nbformat_minor": 5
}
